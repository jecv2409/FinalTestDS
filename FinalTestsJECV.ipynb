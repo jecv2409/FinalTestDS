{
  "metadata": {
    "kernelspec": {
      "name": "python",
      "display_name": "Python (Pyodide)",
      "language": "python"
    },
    "language_info": {
      "codemirror_mode": {
        "name": "python",
        "version": 3
      },
      "file_extension": ".py",
      "mimetype": "text/x-python",
      "name": "python",
      "nbconvert_exporter": "python",
      "pygments_lexer": "ipython3",
      "version": "3.8"
    }
  },
  "nbformat_minor": 4,
  "nbformat": 4,
  "cells": [
    {
      "cell_type": "markdown",
      "source": "# Final Test Juan Currea (Excercise 2)",
      "metadata": {}
    },
    {
      "cell_type": "markdown",
      "source": "## Introduction (Excercise 3)\n\nWelcome, in the following notebook you will find all the excersices required for the final test of the course by me, Juan Currea.\n\n",
      "metadata": {}
    },
    {
      "cell_type": "markdown",
      "source": "## Data Science Languages (Excercise 4)\n\n1. Laguage 1\n2. Laguage 2\n3. Laguage 3\n4. Laguage 4",
      "metadata": {}
    },
    {
      "cell_type": "markdown",
      "source": "## Data Science Libraries (Excercise 5)\n\n- Library 1\n- Library 2\n- Library 3\n- Library 4",
      "metadata": {}
    },
    {
      "cell_type": "markdown",
      "source": "## Data Science Tools (Excercise 6)\n\n| Tool              | Description                       |\n|-------------------|-----------------------------------|\n| Tool 1            |       Description 1               |\n| Tool 2            |       Description 2               |\n| Tool 3            |       Description 3               |\n| Tool 4            |       Description 4               |",
      "metadata": {}
    },
    {
      "cell_type": "markdown",
      "source": "## Examples of Arithmetic Expressions (Excercise 7)\n\n1. Addition: 2 + 3\n2. Subtraction: 5 - 2\n3. Multiplication: 4 \\* 6\n4. Division: 8 / 2\n",
      "metadata": {}
    },
    {
      "cell_type": "code",
      "source": "#Exercice 8\na = 12\nb = 92\n\n# Multiplication\nresult_multiplication = a * b\n\n# Addition\nresult_addition = a + b\n\nresult_multiplication, result_addition\n",
      "metadata": {
        "trusted": true
      },
      "outputs": [
        {
          "execution_count": 8,
          "output_type": "execute_result",
          "data": {
            "text/plain": "(1104, 104)"
          },
          "metadata": {}
        }
      ],
      "execution_count": 8
    },
    {
      "cell_type": "code",
      "source": "# Exercice 9\nminutes = 360\n\n# Minutes -> Hours\nhours = minutes / 60\n\nhours\n",
      "metadata": {
        "trusted": true
      },
      "outputs": [
        {
          "execution_count": 7,
          "output_type": "execute_result",
          "data": {
            "text/plain": "6.0"
          },
          "metadata": {}
        }
      ],
      "execution_count": 7
    },
    {
      "cell_type": "markdown",
      "source": "## Objectives (Excercise 10)\n\n1. Objective 1\n2. Objective 2\n3. Objective 3\n4. Objective 4\n\n",
      "metadata": {}
    },
    {
      "cell_type": "markdown",
      "source": "## Author (Excercise 11)\n\nThis notebook was created by [Juan E Currea V]\n",
      "metadata": {}
    },
    {
      "cell_type": "code",
      "source": "",
      "metadata": {
        "trusted": true
      },
      "outputs": [],
      "execution_count": null
    }
  ]
}